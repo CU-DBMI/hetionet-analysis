{
 "cells": [
  {
   "cell_type": "markdown",
   "id": "b6ea781c-e991-44ef-a0e2-84f4086144ca",
   "metadata": {},
   "source": [
    "# Gather Connectivity Search `PathCount` Table\n",
    "\n",
    "Negar mentioned needing data from a PostgreSQL database archive,\n",
    "`connectivity-search-pg_dump.sql.gz`, which was created as part of\n",
    "https://github.com/greenelab/connectivity-search-backend/blob/main/README.md .\n",
    "The archive is available under https://zenodo.org/records/3978766 .\n",
    "Only the `PathCount` Table is needed in order to extract single metapaths\n",
    "at a time (needed for other work).\n",
    "\n",
    "Additionally, we extract a `Node` table to help associate `identifier`\n",
    "with `id` (internal versus external labels for data)."
   ]
  },
  {
   "cell_type": "code",
   "execution_count": 1,
   "id": "4ebd7bfa-357e-4033-8cd8-b430b75d706e",
   "metadata": {},
   "outputs": [],
   "source": [
    "import gzip\n",
    "import pathlib\n",
    "\n",
    "import duckdb\n",
    "import requests\n",
    "from pyarrow import parquet\n",
    "\n",
    "from hetionet_utils.sql import (\n",
    "    extract_and_write_sql_block,\n",
    "    remove_first_and_last_line_of_file,\n",
    ")\n",
    "\n",
    "# create the data dir\n",
    "pathlib.Path(\"data\").mkdir(exist_ok=True)\n",
    "\n",
    "# url for source data\n",
    "url = (\n",
    "    \"https://zenodo.org/records/3978766/files/\"\n",
    "    \"connectivity-search-pg_dump.sql.gz?download=1\"\n",
    ")\n",
    "\n",
    "# local archive file location\n",
    "sql_file = \"data/connectivity-search-pg_dump.sql.gz\"\n",
    "\n",
    "# expected number of tables within dump\n",
    "expected_table_count = 15\n",
    "\n",
    "# table which is targeted within the sql archive above\n",
    "target_pathcount_table_name = \"public.dj_hetmech_app_pathcount\"\n",
    "target_identifier_table_name = \"public.dj_hetmech_app_node\"\n",
    "\n",
    "# duckdb filename\n",
    "duckdb_filename = \"data/connectivity-search.duckdb\""
   ]
  },
  {
   "cell_type": "code",
   "execution_count": 2,
   "id": "d6b8320a-b50e-487f-808e-4ada2e25b877",
   "metadata": {},
   "outputs": [
    {
     "data": {
      "text/plain": [
       "True"
      ]
     },
     "execution_count": 2,
     "metadata": {},
     "output_type": "execute_result"
    }
   ],
   "source": [
    "# gather postgresql database archive\n",
    "\n",
    "# if the file doesn't exist, download it\n",
    "if not pathlib.Path(sql_file).exists():\n",
    "    # Download the file in streaming mode\n",
    "    response = requests.get(url, stream=True)\n",
    "\n",
    "    # Check if the request was successful\n",
    "    response.raise_for_status()\n",
    "\n",
    "    # Write the response content to a file in chunks\n",
    "    with open(sql_file, \"wb\") as file:\n",
    "        for chunk in response.iter_content(chunk_size=8192):\n",
    "            if chunk:\n",
    "                file.write(chunk)\n",
    "\n",
    "pathlib.Path(sql_file).exists()"
   ]
  },
  {
   "cell_type": "code",
   "execution_count": 3,
   "id": "839d6ad3-1592-48ac-af8f-693d20bfca42",
   "metadata": {},
   "outputs": [
    {
     "name": "stdout",
     "output_type": "stream",
     "text": [
      "CREATE TABLE public.auth_group (\n",
      "\n",
      "CREATE TABLE public.auth_group_permissions (\n",
      "\n",
      "CREATE TABLE public.auth_permission (\n",
      "\n",
      "CREATE TABLE public.auth_user (\n",
      "\n",
      "CREATE TABLE public.auth_user_groups (\n",
      "\n",
      "CREATE TABLE public.auth_user_user_permissions (\n",
      "\n",
      "CREATE TABLE public.dj_hetmech_app_degreegroupedpermutation (\n",
      "\n",
      "CREATE TABLE public.dj_hetmech_app_metanode (\n",
      "\n",
      "CREATE TABLE public.dj_hetmech_app_metapath (\n",
      "\n",
      "CREATE TABLE public.dj_hetmech_app_node (\n",
      "\n",
      "CREATE TABLE public.dj_hetmech_app_pathcount (\n",
      "\n",
      "CREATE TABLE public.django_admin_log (\n",
      "\n",
      "CREATE TABLE public.django_content_type (\n",
      "\n",
      "CREATE TABLE public.django_migrations (\n",
      "\n",
      "CREATE TABLE public.django_session (\n",
      "\n"
     ]
    }
   ],
   "source": [
    "# show the tables\n",
    "count = 0\n",
    "with gzip.open(sql_file, \"rt\") as f:\n",
    "    for line in f:\n",
    "        # seek table creation lines\n",
    "        if \"CREATE TABLE\" in line:\n",
    "            print(line)\n",
    "            count += 1\n",
    "            # there are roughly 15 tables\n",
    "            # so we break here to avoid further processing\n",
    "            if count == expected_table_count:\n",
    "                break"
   ]
  },
  {
   "cell_type": "code",
   "execution_count": 4,
   "id": "ba56b913-73ef-49a6-b77b-3a130544222e",
   "metadata": {},
   "outputs": [
    {
     "data": {
      "text/plain": [
       "True"
      ]
     },
     "execution_count": 4,
     "metadata": {},
     "output_type": "execute_result"
    }
   ],
   "source": [
    "# gather the create table statement for path count table\n",
    "extract_and_write_sql_block(\n",
    "    sql_file=sql_file,\n",
    "    sql_start=f\"CREATE TABLE {target_pathcount_table_name}\",\n",
    "    sql_end=\";\",\n",
    "    output_file=(\n",
    "        create_pathcount_table_file := f\"create_table.{target_pathcount_table_name}.sql\"\n",
    "    ),\n",
    ")"
   ]
  },
  {
   "cell_type": "code",
   "execution_count": 5,
   "id": "343226e4-2d93-4c10-82d7-1f23b7e40f64",
   "metadata": {},
   "outputs": [
    {
     "data": {
      "text/plain": [
       "True"
      ]
     },
     "execution_count": 5,
     "metadata": {},
     "output_type": "execute_result"
    }
   ],
   "source": [
    "# gather the create table statement for node table\n",
    "extract_and_write_sql_block(\n",
    "    sql_file=sql_file,\n",
    "    sql_start=f\"CREATE TABLE {target_identifier_table_name}\",\n",
    "    sql_end=\";\",\n",
    "    output_file=(\n",
    "        create_identifier_table_file := f\"create_table.{target_identifier_table_name}.sql\"\n",
    "    ),\n",
    ")"
   ]
  },
  {
   "cell_type": "code",
   "execution_count": 6,
   "id": "c93c66ec-6667-4c32-9b07-817402185cf8",
   "metadata": {},
   "outputs": [
    {
     "name": "stdout",
     "output_type": "stream",
     "text": [
      "CREATE TABLE public.dj_hetmech_app_pathcount (\n",
      "    id integer NOT NULL,\n",
      "    path_count integer NOT NULL,\n",
      "    dwpc double precision NOT NULL,\n",
      "    p_value double precision,\n",
      "    metapath_id character varying(20) NOT NULL,\n",
      "    source_id integer NOT NULL,\n",
      "    target_id integer NOT NULL,\n",
      "    dgp_id integer NOT NULL,\n",
      "    CONSTRAINT dj_hetmech_app_pathcount_path_count_check CHECK ((path_count >= 0))\n",
      ");\n",
      "\n"
     ]
    }
   ],
   "source": [
    "# show the create table statement\n",
    "with open(create_pathcount_table_file, \"r\") as pathcount_file:\n",
    "    pathcount_table_sql = \"\".join(pathcount_file.readlines())\n",
    "\n",
    "print(pathcount_table_sql)"
   ]
  },
  {
   "cell_type": "code",
   "execution_count": 7,
   "id": "2153891d-9be2-4ddc-aa59-98c083fed001",
   "metadata": {},
   "outputs": [
    {
     "name": "stdout",
     "output_type": "stream",
     "text": [
      "CREATE TABLE public.dj_hetmech_app_node (\n",
      "    id integer NOT NULL,\n",
      "    identifier character varying(50) NOT NULL,\n",
      "    identifier_type character varying(50) NOT NULL,\n",
      "    name character varying(200) NOT NULL,\n",
      "    data jsonb NOT NULL,\n",
      "    metanode_id character varying(50) NOT NULL\n",
      ");\n",
      "\n"
     ]
    }
   ],
   "source": [
    "# show the create table statement\n",
    "with open(create_identifier_table_file, \"r\") as identifier_file:\n",
    "    identifier_table_sql = \"\".join(identifier_file.readlines())\n",
    "\n",
    "print(identifier_table_sql)"
   ]
  },
  {
   "cell_type": "code",
   "execution_count": null,
   "id": "cdf1265e-3d33-40d0-b58e-7b33cfdbe636",
   "metadata": {},
   "outputs": [],
   "source": [
    "# gather the data for the path count table\n",
    "extract_and_write_sql_block(\n",
    "    sql_file=sql_file,\n",
    "    sql_start=f\"COPY {target_pathcount_table_name}\",\n",
    "    sql_end=\"\\\\.\",\n",
    "    output_file=(\n",
    "        copy_pathcount_data_file := f\"copy_data.{target_pathcount_table_name}.sql\"\n",
    "    ),\n",
    ")"
   ]
  },
  {
   "cell_type": "code",
   "execution_count": null,
   "id": "ffb14203-4ecf-4bf4-8f6e-c5c091693999",
   "metadata": {},
   "outputs": [],
   "source": [
    "# gather the data for the identifier table\n",
    "extract_and_write_sql_block(\n",
    "    sql_file=sql_file,\n",
    "    sql_start=f\"COPY {target_identifier_table_name}\",\n",
    "    sql_end=\"\\\\.\",\n",
    "    output_file=(\n",
    "        copy_identifier_data_file := f\"copy_data.{target_identifier_table_name}.sql\"\n",
    "    ),\n",
    ")"
   ]
  },
  {
   "cell_type": "code",
   "execution_count": null,
   "id": "9758cb12-d8f8-48fd-948d-ba3c9e57c070",
   "metadata": {},
   "outputs": [],
   "source": [
    "# replace the first and last lines of the copy files\n",
    "# as these are the header and data termination lines\n",
    "# which have no actual values.\n",
    "copy_pathcount_data_file = remove_first_and_last_line_of_file(\n",
    "    target_file=copy_pathcount_data_file\n",
    ")\n",
    "copy_identifier_data_file = remove_first_and_last_line_of_file(\n",
    "    target_file=copy_identifier_data_file\n",
    ")\n",
    "print(copy_pathcount_data_file, copy_identifier_data_file)"
   ]
  },
  {
   "cell_type": "code",
   "execution_count": null,
   "id": "52ef72d7-15db-4522-bc85-43be5e59b97b",
   "metadata": {},
   "outputs": [],
   "source": [
    "# create the path count and identifier tables\n",
    "with duckdb.connect(duckdb_filename) as ddb:\n",
    "    ddb.execute(pathcount_table_sql.replace(\"public.\", \"\"))\n",
    "    ddb.execute(identifier_table_sql.replace(\"public.\", \"\").replace(\"jsonb\", \"json\"))"
   ]
  },
  {
   "cell_type": "code",
   "execution_count": null,
   "id": "580954bb-513d-4e6b-8651-fe7d53665c41",
   "metadata": {},
   "outputs": [],
   "source": [
    "# copy the data from the files to duckdb database\n",
    "# using tab-delimited files.\n",
    "with duckdb.connect(duckdb_filename) as ddb:\n",
    "    ddb.execute(\n",
    "        f\"\"\"\n",
    "        COPY {target_pathcount_table_name.replace('public.','')}\n",
    "        FROM '{copy_pathcount_data_file}'\n",
    "        (DELIMITER '\\t', HEADER false);\n",
    "        \"\"\"\n",
    "    )\n",
    "    ddb.execute(\n",
    "        f\"\"\"\n",
    "        COPY {target_identifier_table_name.replace('public.','')}\n",
    "        FROM '{copy_identifier_data_file}'\n",
    "        (DELIMITER '\\t', HEADER false);\n",
    "        \"\"\"\n",
    "    )"
   ]
  },
  {
   "cell_type": "code",
   "execution_count": null,
   "id": "be554e51-3001-44e5-87a1-cb3f5fb8645b",
   "metadata": {},
   "outputs": [],
   "source": [
    "# read and export data to parquet for simpler use\n",
    "with duckdb.connect(duckdb_filename) as ddb:\n",
    "    tbl_pathcount = ddb.execute(\n",
    "        \"\"\"\n",
    "        SELECT\n",
    "            pathcount.id,\n",
    "            pathcount.path_count,\n",
    "            pathcount.dwpc,\n",
    "            pathcount.p_value,\n",
    "            pathcount.metapath_id,\n",
    "            pathcount.source_id,\n",
    "            source.identifier AS source_identifier,\n",
    "            pathcount.target_id,\n",
    "            target.identifier AS target_identifier,\n",
    "            pathcount.dgp_id\n",
    "        FROM\n",
    "            dj_hetmech_app_pathcount as pathcount\n",
    "        LEFT JOIN\n",
    "            dj_hetmech_app_node AS source ON\n",
    "                pathcount.source_id = source.id\n",
    "        LEFT JOIN\n",
    "            dj_hetmech_app_node AS target ON\n",
    "                pathcount.target_id = target.id;\n",
    "        \"\"\"\n",
    "    ).arrow()\n",
    "\n",
    "parquet.write_table(\n",
    "    table=tbl_pathcount,\n",
    "    where=\"data/dj_hetmech_app_pathcount_with_identifiers.parquet\",\n",
    "    # compress with zstd for higher compression than snappy\n",
    "    compression=\"zstd\",\n",
    ")"
   ]
  }
 ],
 "metadata": {
  "kernelspec": {
   "display_name": "Python 3 (ipykernel)",
   "language": "python",
   "name": "python3"
  },
  "language_info": {
   "codemirror_mode": {
    "name": "ipython",
    "version": 3
   },
   "file_extension": ".py",
   "mimetype": "text/x-python",
   "name": "python",
   "nbconvert_exporter": "python",
   "pygments_lexer": "ipython3",
   "version": "3.12.5"
  }
 },
 "nbformat": 4,
 "nbformat_minor": 5
}
