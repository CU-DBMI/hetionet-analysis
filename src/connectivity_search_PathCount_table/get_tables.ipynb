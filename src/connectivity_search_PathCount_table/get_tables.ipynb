{
 "cells": [
  {
   "cell_type": "markdown",
   "id": "b6ea781c-e991-44ef-a0e2-84f4086144ca",
   "metadata": {},
   "source": [
    "# Gather Connectivity Search `PathCount` Table\n",
    "\n",
    "Negar mentioned needing data from a PostgreSQL database archive,\n",
    "`connectivity-search-pg_dump.sql.gz`, which was created as part of\n",
    "https://github.com/greenelab/connectivity-search-backend/blob/main/README.md .\n",
    "The archive is available under https://zenodo.org/records/3978766 .\n",
    "Only the `PathCount` Table is needed in order to extract single metapaths\n",
    "at a time (needed for other work)."
   ]
  },
  {
   "cell_type": "code",
   "execution_count": 1,
   "id": "4ebd7bfa-357e-4033-8cd8-b430b75d706e",
   "metadata": {},
   "outputs": [],
   "source": [
    "import gzip\n",
    "import pathlib\n",
    "\n",
    "import duckdb\n",
    "import requests\n",
    "from pyarrow import parquet\n",
    "\n",
    "from hetionet_utils.sql import extract_and_write_sql_block\n",
    "\n",
    "# create the data dir\n",
    "pathlib.Path(\"data\").mkdir(exist_ok=True)\n",
    "\n",
    "# url for source data\n",
    "url = (\n",
    "    \"https://zenodo.org/records/3978766/files/\"\n",
    "    \"connectivity-search-pg_dump.sql.gz?download=1\"\n",
    ")\n",
    "\n",
    "# local archive file location\n",
    "sql_file = \"data/connectivity-search-pg_dump.sql.gz\"\n",
    "\n",
    "# expected number of tables within dump\n",
    "expected_table_count = 15\n",
    "\n",
    "# table which is targeted within the sql archive above\n",
    "target_table_name = \"public.dj_hetmech_app_pathcount\"\n",
    "\n",
    "# duckdb filename\n",
    "duckdb_filename = \"data/connectivity-search.duckdb\""
   ]
  },
  {
   "cell_type": "code",
   "execution_count": 2,
   "id": "d6b8320a-b50e-487f-808e-4ada2e25b877",
   "metadata": {},
   "outputs": [
    {
     "data": {
      "text/plain": [
       "True"
      ]
     },
     "execution_count": 2,
     "metadata": {},
     "output_type": "execute_result"
    }
   ],
   "source": [
    "# gather postgresql database archive\n",
    "\n",
    "# if the file doesn't exist, download it\n",
    "if not pathlib.Path(sql_file).exists():\n",
    "    # Download the file in streaming mode\n",
    "    response = requests.get(url, stream=True)\n",
    "\n",
    "    # Check if the request was successful\n",
    "    response.raise_for_status()\n",
    "\n",
    "    # Write the response content to a file in chunks\n",
    "    with open(sql_file, \"wb\") as file:\n",
    "        for chunk in response.iter_content(chunk_size=8192):\n",
    "            if chunk:\n",
    "                file.write(chunk)\n",
    "\n",
    "pathlib.Path(sql_file).exists()"
   ]
  },
  {
   "cell_type": "code",
   "execution_count": 3,
   "id": "839d6ad3-1592-48ac-af8f-693d20bfca42",
   "metadata": {},
   "outputs": [
    {
     "name": "stdout",
     "output_type": "stream",
     "text": [
      "CREATE TABLE public.auth_group (\n",
      "\n",
      "CREATE TABLE public.auth_group_permissions (\n",
      "\n",
      "CREATE TABLE public.auth_permission (\n",
      "\n",
      "CREATE TABLE public.auth_user (\n",
      "\n",
      "CREATE TABLE public.auth_user_groups (\n",
      "\n",
      "CREATE TABLE public.auth_user_user_permissions (\n",
      "\n",
      "CREATE TABLE public.dj_hetmech_app_degreegroupedpermutation (\n",
      "\n",
      "CREATE TABLE public.dj_hetmech_app_metanode (\n",
      "\n",
      "CREATE TABLE public.dj_hetmech_app_metapath (\n",
      "\n",
      "CREATE TABLE public.dj_hetmech_app_node (\n",
      "\n",
      "CREATE TABLE public.dj_hetmech_app_pathcount (\n",
      "\n",
      "CREATE TABLE public.django_admin_log (\n",
      "\n",
      "CREATE TABLE public.django_content_type (\n",
      "\n",
      "CREATE TABLE public.django_migrations (\n",
      "\n",
      "CREATE TABLE public.django_session (\n",
      "\n"
     ]
    }
   ],
   "source": [
    "# show the tables\n",
    "count = 0\n",
    "with gzip.open(sql_file, \"rt\") as f:\n",
    "    for line in f:\n",
    "        # seek table creation lines\n",
    "        if \"CREATE TABLE\" in line:\n",
    "            print(line)\n",
    "            count += 1\n",
    "            # there are roughly 15 tables\n",
    "            # so we break here to avoid further processing\n",
    "            if count == expected_table_count:\n",
    "                break"
   ]
  },
  {
   "cell_type": "code",
   "execution_count": 4,
   "id": "ba56b913-73ef-49a6-b77b-3a130544222e",
   "metadata": {},
   "outputs": [
    {
     "data": {
      "text/plain": [
       "True"
      ]
     },
     "execution_count": 4,
     "metadata": {},
     "output_type": "execute_result"
    }
   ],
   "source": [
    "# gather the create table statement\n",
    "extract_and_write_sql_block(\n",
    "    sql_file=sql_file,\n",
    "    sql_start=f\"CREATE TABLE {target_table_name}\",\n",
    "    sql_end=\";\",\n",
    "    output_file=(create_table_file := f\"create_table.{target_table_name}.sql\"),\n",
    ")"
   ]
  },
  {
   "cell_type": "code",
   "execution_count": 5,
   "id": "c93c66ec-6667-4c32-9b07-817402185cf8",
   "metadata": {},
   "outputs": [
    {
     "name": "stdout",
     "output_type": "stream",
     "text": [
      "CREATE TABLE public.dj_hetmech_app_pathcount (\n",
      "    id integer NOT NULL,\n",
      "    path_count integer NOT NULL,\n",
      "    dwpc double precision NOT NULL,\n",
      "    p_value double precision,\n",
      "    metapath_id character varying(20) NOT NULL,\n",
      "    source_id integer NOT NULL,\n",
      "    target_id integer NOT NULL,\n",
      "    dgp_id integer NOT NULL,\n",
      "    CONSTRAINT dj_hetmech_app_pathcount_path_count_check CHECK ((path_count >= 0))\n",
      ");\n",
      "\n"
     ]
    }
   ],
   "source": [
    "# show the create table statement\n",
    "with open(create_table_file, \"r\") as create_file:\n",
    "    create_sql = \"\".join(create_file.readlines())\n",
    "\n",
    "print(create_sql)"
   ]
  },
  {
   "cell_type": "code",
   "execution_count": 6,
   "id": "cdf1265e-3d33-40d0-b58e-7b33cfdbe636",
   "metadata": {},
   "outputs": [
    {
     "data": {
      "text/plain": [
       "True"
      ]
     },
     "execution_count": 6,
     "metadata": {},
     "output_type": "execute_result"
    }
   ],
   "source": [
    "# gather the data for the table\n",
    "extract_and_write_sql_block(\n",
    "    sql_file=sql_file,\n",
    "    sql_start=f\"COPY {target_table_name}\",\n",
    "    sql_end=\"\\\\.\",\n",
    "    output_file=(copy_data_file := f\"copy_data.{target_table_name}.sql\"),\n",
    ")"
   ]
  },
  {
   "cell_type": "code",
   "execution_count": 7,
   "id": "9758cb12-d8f8-48fd-948d-ba3c9e57c070",
   "metadata": {},
   "outputs": [
    {
     "data": {
      "text/plain": [
       "PosixPath('copy_data.public.dj_hetmech_app_pathcount.sql')"
      ]
     },
     "execution_count": 7,
     "metadata": {},
     "output_type": "execute_result"
    }
   ],
   "source": [
    "# replace the first and last lines of the copy file\n",
    "# as these are the header and data termination lines\n",
    "# which have no actual values.\n",
    "input_file = pathlib.Path(copy_data_file)\n",
    "# Temporary file with .tmp extension\n",
    "temp_file = input_file.with_suffix(\".tmp\")\n",
    "\n",
    "with input_file.open(\"r\") as infile, temp_file.open(\"w\") as outfile:\n",
    "    # Skip the first line\n",
    "    first_line = next(infile, None)\n",
    "\n",
    "    # Only proceed if the file is not empty\n",
    "    if first_line is not None:\n",
    "        # Start with the second line\n",
    "        prev_line = next(infile, None)\n",
    "        for line in infile:\n",
    "            # Write the previous line\n",
    "            outfile.write(prev_line)\n",
    "            # Update the previous line buffer\n",
    "            prev_line = line\n",
    "\n",
    "        # Note: the last line is in `prev_line` and is not written\n",
    "\n",
    "# Replace the original file with the temporary file\n",
    "temp_file.replace(input_file)"
   ]
  },
  {
   "cell_type": "code",
   "execution_count": 8,
   "id": "52ef72d7-15db-4522-bc85-43be5e59b97b",
   "metadata": {},
   "outputs": [],
   "source": [
    "# create the table\n",
    "with duckdb.connect(duckdb_filename) as ddb:\n",
    "    ddb.execute(create_sql.replace(\"public.\", \"\"))"
   ]
  },
  {
   "cell_type": "code",
   "execution_count": 9,
   "id": "580954bb-513d-4e6b-8651-fe7d53665c41",
   "metadata": {},
   "outputs": [
    {
     "data": {
      "application/vnd.jupyter.widget-view+json": {
       "model_id": "c4a802e63b214f49bcb66d52ee7f1ed0",
       "version_major": 2,
       "version_minor": 0
      },
      "text/plain": [
       "FloatProgress(value=0.0, layout=Layout(width='auto'), style=ProgressStyle(bar_color='black'))"
      ]
     },
     "metadata": {},
     "output_type": "display_data"
    }
   ],
   "source": [
    "# copy the data from the file to duckdb database\n",
    "# as tab-delimited file.\n",
    "with duckdb.connect(duckdb_filename) as ddb:\n",
    "    ddb.execute(\n",
    "        f\"\"\"\n",
    "        COPY dj_hetmech_app_pathcount\n",
    "        FROM '{copy_data_file}'\n",
    "        (DELIMITER '\\t', HEADER false);\n",
    "        \"\"\"\n",
    "    )"
   ]
  },
  {
   "cell_type": "code",
   "execution_count": 10,
   "id": "be554e51-3001-44e5-87a1-cb3f5fb8645b",
   "metadata": {},
   "outputs": [
    {
     "data": {
      "application/vnd.jupyter.widget-view+json": {
       "model_id": "e98906c3dfa04889881701d7857554e5",
       "version_major": 2,
       "version_minor": 0
      },
      "text/plain": [
       "FloatProgress(value=0.0, layout=Layout(width='auto'), style=ProgressStyle(bar_color='black'))"
      ]
     },
     "metadata": {},
     "output_type": "display_data"
    }
   ],
   "source": [
    "# read and export data to parquet for simpler use\n",
    "with duckdb.connect(duckdb_filename) as ddb:\n",
    "    tbl_pathcount = ddb.execute(\n",
    "        \"\"\"\n",
    "        SELECT *\n",
    "        FROM dj_hetmech_app_pathcount\n",
    "        \"\"\"\n",
    "    ).arrow()\n",
    "\n",
    "parquet.write_table(\n",
    "    table=tbl_pathcount,\n",
    "    where=\"data/dj_hetmech_app_pathcount.parquet\",\n",
    "    # compress with zstd for higher compression than snappy\n",
    "    compression=\"zstd\",\n",
    ")"
   ]
  }
 ],
 "metadata": {
  "kernelspec": {
   "display_name": "Python 3 (ipykernel)",
   "language": "python",
   "name": "python3"
  },
  "language_info": {
   "codemirror_mode": {
    "name": "ipython",
    "version": 3
   },
   "file_extension": ".py",
   "mimetype": "text/x-python",
   "name": "python",
   "nbconvert_exporter": "python",
   "pygments_lexer": "ipython3",
   "version": "3.12.5"
  }
 },
 "nbformat": 4,
 "nbformat_minor": 5
}
