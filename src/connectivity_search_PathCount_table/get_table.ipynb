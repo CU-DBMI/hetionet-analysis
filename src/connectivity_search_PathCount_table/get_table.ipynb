{
 "cells": [
  {
   "cell_type": "markdown",
   "id": "b6ea781c-e991-44ef-a0e2-84f4086144ca",
   "metadata": {},
   "source": [
    "# Gather Connectivity Search `PathCount` Table\n",
    "\n",
    "Negar mentioned needing data from a PostgreSQL database archive, `connectivity-search-pg_dump.sql.gz`, which was created as part of https://github.com/greenelab/connectivity-search-backend/blob/main/README.md .\n",
    "The archive is available under https://zenodo.org/records/3978766 . Only the `PathCount` Table is needed in order to extract single metapaths at a time (needed for other work).\n",
    "                                                                                                                  This PR was mentioned as a resource in case it's needed greenelab/connectivity-search-backend#79 .\n",
    "                                                                                                                                                                                                           "
   ]
  },
  {
   "cell_type": "code",
   "execution_count": 5,
   "id": "4ebd7bfa-357e-4033-8cd8-b430b75d706e",
   "metadata": {},
   "outputs": [],
   "source": [
    "import gzip\n",
    "import pathlib\n",
    "from typing import List, Optional\n",
    "\n",
    "import duckdb\n",
    "import requests\n",
    "from pyarrow import parquet\n",
    "\n",
    "from hetionet_utils.sql import extract_and_write_sql_block\n",
    "\n",
    "# create the data dir\n",
    "pathlib.Path(\"data\").mkdir(exist_ok=True)\n",
    "\n",
    "# url for source data\n",
    "url = \"https://zenodo.org/records/3978766/files/connectivity-search-pg_dump.sql.gz?download=1\"\n",
    "# local archive file location\n",
    "sql_file = \"data/connectivity-search-pg_dump.sql.gz\"\n",
    "# table which is targeted within the sql archive above\n",
    "target_table_name = \"public.dj_hetmech_app_pathcount\"\n",
    "# duckdb filename\n",
    "duckdb_filename = \"data/connectivity-search.duckdb\""
   ]
  },
  {
   "cell_type": "code",
   "execution_count": 6,
   "id": "d6b8320a-b50e-487f-808e-4ada2e25b877",
   "metadata": {},
   "outputs": [
    {
     "data": {
      "text/plain": [
       "True"
      ]
     },
     "execution_count": 6,
     "metadata": {},
     "output_type": "execute_result"
    }
   ],
   "source": [
    "# gather postgresql database archive\n",
    "\n",
    "# if the file doesn't exist, download it\n",
    "if not pathlib.Path(sql_file).exists():\n",
    "    # Download the file in streaming mode\n",
    "    response = requests.get(url, stream=True)\n",
    "    response.raise_for_status()  # Check if the request was successful\n",
    "\n",
    "    # Write the response content to a file in chunks\n",
    "    with open(output_file, \"wb\") as file:\n",
    "        for chunk in response.iter_content(chunk_size=8192):\n",
    "            if chunk:\n",
    "                file.write(chunk)\n",
    "\n",
    "pathlib.Path(sql_file).exists()"
   ]
  },
  {
   "cell_type": "code",
   "execution_count": 7,
   "id": "839d6ad3-1592-48ac-af8f-693d20bfca42",
   "metadata": {},
   "outputs": [
    {
     "name": "stdout",
     "output_type": "stream",
     "text": [
      "CREATE TABLE public.auth_group (\n",
      "\n",
      "CREATE TABLE public.auth_group_permissions (\n",
      "\n",
      "CREATE TABLE public.auth_permission (\n",
      "\n",
      "CREATE TABLE public.auth_user (\n",
      "\n",
      "CREATE TABLE public.auth_user_groups (\n",
      "\n",
      "CREATE TABLE public.auth_user_user_permissions (\n",
      "\n",
      "CREATE TABLE public.dj_hetmech_app_degreegroupedpermutation (\n",
      "\n",
      "CREATE TABLE public.dj_hetmech_app_metanode (\n",
      "\n",
      "CREATE TABLE public.dj_hetmech_app_metapath (\n",
      "\n",
      "CREATE TABLE public.dj_hetmech_app_node (\n",
      "\n",
      "CREATE TABLE public.dj_hetmech_app_pathcount (\n",
      "\n",
      "CREATE TABLE public.django_admin_log (\n",
      "\n",
      "CREATE TABLE public.django_content_type (\n",
      "\n",
      "CREATE TABLE public.django_migrations (\n",
      "\n",
      "CREATE TABLE public.django_session (\n",
      "\n"
     ]
    }
   ],
   "source": [
    "# show the tables\n",
    "count = 0\n",
    "with gzip.open(sql_file, \"rt\") as f:\n",
    "    for line in f:\n",
    "        # seek table creation lines\n",
    "        if \"CREATE TABLE\" in line:\n",
    "            print(line)\n",
    "            count += 1\n",
    "            # there are roughly 15 tables\n",
    "            # so we break here to avoid further processing\n",
    "            if count == 15:\n",
    "                break"
   ]
  },
  {
   "cell_type": "code",
   "execution_count": 8,
   "id": "ba56b913-73ef-49a6-b77b-3a130544222e",
   "metadata": {},
   "outputs": [
    {
     "data": {
      "text/plain": [
       "'create_table.public.dj_hetmech_app_pathcount.sql'"
      ]
     },
     "execution_count": 8,
     "metadata": {},
     "output_type": "execute_result"
    }
   ],
   "source": [
    "# gather the create table statement\n",
    "extract_and_write_sql_block(\n",
    "    sql_file=sql_file,\n",
    "    sql_start=f\"CREATE TABLE {target_table_name}\",\n",
    "    sql_end=\";\",\n",
    "    output_file=(create_table_file := f\"create_table.{target_table_name}.sql\"),\n",
    ")"
   ]
  },
  {
   "cell_type": "code",
   "execution_count": 12,
   "id": "c93c66ec-6667-4c32-9b07-817402185cf8",
   "metadata": {},
   "outputs": [
    {
     "name": "stdout",
     "output_type": "stream",
     "text": [
      "CREATE TABLE public.dj_hetmech_app_pathcount (\n",
      "    id integer NOT NULL,\n",
      "    path_count integer NOT NULL,\n",
      "    dwpc double precision NOT NULL,\n",
      "    p_value double precision,\n",
      "    metapath_id character varying(20) NOT NULL,\n",
      "    source_id integer NOT NULL,\n",
      "    target_id integer NOT NULL,\n",
      "    dgp_id integer NOT NULL,\n",
      "    CONSTRAINT dj_hetmech_app_pathcount_path_count_check CHECK ((path_count >= 0))\n",
      ");\n",
      "\n"
     ]
    }
   ],
   "source": [
    "# show the create table statement\n",
    "with open(create_table_file, \"r\") as create_file:\n",
    "    print(\"\".join(create_file.readlines()))"
   ]
  },
  {
   "cell_type": "code",
   "execution_count": 18,
   "id": "cdf1265e-3d33-40d0-b58e-7b33cfdbe636",
   "metadata": {},
   "outputs": [
    {
     "data": {
      "text/plain": [
       "'copy_data.public.dj_hetmech_app_pathcount.sql'"
      ]
     },
     "execution_count": 18,
     "metadata": {},
     "output_type": "execute_result"
    }
   ],
   "source": [
    "# gather the data for the table\n",
    "# note: we avoid printing the file below as it is\n",
    "# relatively large at ~14.3 GB.\n",
    "extract_and_write_sql_block(\n",
    "    sql_file=sql_file,\n",
    "    sql_start=f\"COPY {target_table_name}\",\n",
    "    sql_end=\"\\\\.\",\n",
    "    output_file=f\"copy_data.{target_table_name}.sql\",\n",
    ")"
   ]
  },
  {
   "cell_type": "code",
   "execution_count": 27,
   "id": "52ef72d7-15db-4522-bc85-43be5e59b97b",
   "metadata": {},
   "outputs": [
    {
     "ename": "CatalogException",
     "evalue": "Catalog Error: Table with name \"dj_hetmech_app_pathcount\" already exists!",
     "output_type": "error",
     "traceback": [
      "\u001b[0;31m---------------------------------------------------------------------------\u001b[0m",
      "\u001b[0;31mCatalogException\u001b[0m                          Traceback (most recent call last)",
      "Cell \u001b[0;32mIn[27], line 2\u001b[0m\n\u001b[1;32m      1\u001b[0m \u001b[38;5;66;03m# create the table\u001b[39;00m\n\u001b[0;32m----> 2\u001b[0m \u001b[38;5;28;43;01mwith\u001b[39;49;00m\u001b[43m \u001b[49m\u001b[43mduckdb\u001b[49m\u001b[38;5;241;43m.\u001b[39;49m\u001b[43mconnect\u001b[49m\u001b[43m(\u001b[49m\u001b[43mduckdb_filename\u001b[49m\u001b[43m)\u001b[49m\u001b[43m \u001b[49m\u001b[38;5;28;43;01mas\u001b[39;49;00m\u001b[43m \u001b[49m\u001b[43mddb\u001b[49m\u001b[43m:\u001b[49m\n\u001b[1;32m      3\u001b[0m \u001b[43m    \u001b[49m\u001b[43mddb\u001b[49m\u001b[38;5;241;43m.\u001b[39;49m\u001b[43mexecute\u001b[49m\u001b[43m(\u001b[49m\u001b[43mcreate_sql\u001b[49m\u001b[38;5;241;43m.\u001b[39;49m\u001b[43mreplace\u001b[49m\u001b[43m(\u001b[49m\u001b[38;5;124;43m\"\u001b[39;49m\u001b[38;5;124;43mpublic.\u001b[39;49m\u001b[38;5;124;43m\"\u001b[39;49m\u001b[43m,\u001b[49m\u001b[43m \u001b[49m\u001b[38;5;124;43m\"\u001b[39;49m\u001b[38;5;124;43m\"\u001b[39;49m\u001b[43m)\u001b[49m\u001b[43m)\u001b[49m\n",
      "Cell \u001b[0;32mIn[27], line 3\u001b[0m\n\u001b[1;32m      1\u001b[0m \u001b[38;5;66;03m# create the table\u001b[39;00m\n\u001b[1;32m      2\u001b[0m \u001b[38;5;28;01mwith\u001b[39;00m duckdb\u001b[38;5;241m.\u001b[39mconnect(duckdb_filename) \u001b[38;5;28;01mas\u001b[39;00m ddb:\n\u001b[0;32m----> 3\u001b[0m     \u001b[43mddb\u001b[49m\u001b[38;5;241;43m.\u001b[39;49m\u001b[43mexecute\u001b[49m\u001b[43m(\u001b[49m\u001b[43mcreate_sql\u001b[49m\u001b[38;5;241;43m.\u001b[39;49m\u001b[43mreplace\u001b[49m\u001b[43m(\u001b[49m\u001b[38;5;124;43m\"\u001b[39;49m\u001b[38;5;124;43mpublic.\u001b[39;49m\u001b[38;5;124;43m\"\u001b[39;49m\u001b[43m,\u001b[49m\u001b[43m \u001b[49m\u001b[38;5;124;43m\"\u001b[39;49m\u001b[38;5;124;43m\"\u001b[39;49m\u001b[43m)\u001b[49m\u001b[43m)\u001b[49m\n",
      "\u001b[0;31mCatalogException\u001b[0m: Catalog Error: Table with name \"dj_hetmech_app_pathcount\" already exists!"
     ]
    }
   ],
   "source": [
    "# create the table\n",
    "with duckdb.connect(duckdb_filename) as ddb:\n",
    "    ddb.execute(create_sql.replace(\"public.\", \"\"))"
   ]
  },
  {
   "cell_type": "code",
   "execution_count": 26,
   "id": "6f0e4ec8-c114-4ed9-9562-1ea5b166a61f",
   "metadata": {},
   "outputs": [],
   "source": [
    "# remove the first and last line of the data to avoid conflicts with a load\n",
    "# note: we use sed from a macos terminal, which may vary from system to system.\n",
    "# sed was used here to help avoid unnecessary data duplication and complexity\n",
    "# in processing through python.\n",
    "!sed -i '' '1d;$d' copy_data.public.dj_hetmech_app_pathcount.sql"
   ]
  },
  {
   "cell_type": "code",
   "execution_count": 28,
   "id": "580954bb-513d-4e6b-8651-fe7d53665c41",
   "metadata": {},
   "outputs": [
    {
     "data": {
      "application/vnd.jupyter.widget-view+json": {
       "model_id": "39b7dd580f2c452d91b6a25a94f73af6",
       "version_major": 2,
       "version_minor": 0
      },
      "text/plain": [
       "FloatProgress(value=0.0, layout=Layout(width='auto'), style=ProgressStyle(bar_color='black'))"
      ]
     },
     "metadata": {},
     "output_type": "display_data"
    }
   ],
   "source": [
    "# copy the data from the file to duckdb database\n",
    "# as tab-delimited file.\n",
    "with duckdb.connect(duckdb_filename) as ddb:\n",
    "    ddb.execute(\n",
    "        \"\"\"\n",
    "        COPY dj_hetmech_app_pathcount\n",
    "        FROM 'copy_data.public.dj_hetmech_app_pathcount.sql'\n",
    "        (DELIMITER '\\t', HEADER false);\n",
    "        \"\"\"\n",
    "    )"
   ]
  },
  {
   "cell_type": "code",
   "execution_count": 31,
   "id": "be554e51-3001-44e5-87a1-cb3f5fb8645b",
   "metadata": {},
   "outputs": [
    {
     "data": {
      "application/vnd.jupyter.widget-view+json": {
       "model_id": "b61334adf2904962918e8d5f621e28cb",
       "version_major": 2,
       "version_minor": 0
      },
      "text/plain": [
       "FloatProgress(value=0.0, layout=Layout(width='auto'), style=ProgressStyle(bar_color='black'))"
      ]
     },
     "metadata": {},
     "output_type": "display_data"
    }
   ],
   "source": [
    "# read and export data to parquet for ease of use\n",
    "with duckdb.connect(duckdb_filename) as ddb:\n",
    "    tbl_pathcount = ddb.execute(\n",
    "        \"\"\"\n",
    "        SELECT *\n",
    "        FROM dj_hetmech_app_pathcount\n",
    "        \"\"\"\n",
    "    ).arrow()\n",
    "\n",
    "parquet.write_table(\n",
    "    table=tbl_pathcount,\n",
    "    where=\"data/dj_hetmech_app_pathcount.parquet\",\n",
    "    # compress with zstd for higher compression than snappy\n",
    "    compression=\"zstd\",\n",
    ")"
   ]
  },
  {
   "cell_type": "code",
   "execution_count": null,
   "id": "000a96e9-a52d-46ec-b4d5-8e52e0549dcb",
   "metadata": {},
   "outputs": [],
   "source": []
  }
 ],
 "metadata": {
  "kernelspec": {
   "display_name": "Python 3 (ipykernel)",
   "language": "python",
   "name": "python3"
  },
  "language_info": {
   "codemirror_mode": {
    "name": "ipython",
    "version": 3
   },
   "file_extension": ".py",
   "mimetype": "text/x-python",
   "name": "python",
   "nbconvert_exporter": "python",
   "pygments_lexer": "ipython3",
   "version": "3.12.5"
  }
 },
 "nbformat": 4,
 "nbformat_minor": 5
}
